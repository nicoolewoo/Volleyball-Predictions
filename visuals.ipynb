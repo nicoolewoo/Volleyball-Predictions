{
 "cells": [
  {
   "cell_type": "code",
   "execution_count": null,
   "metadata": {},
   "outputs": [],
   "source": [
    "from clean_data import dataset_ball, dataset_detections\n",
    "from pathlib import Path"
   ]
  },
  {
   "cell_type": "code",
   "execution_count": null,
   "metadata": {},
   "outputs": [
    {
     "name": "stdout",
     "output_type": "stream",
     "text": [
      "   video_id  frame_id  frame_time  x_coord  y_coord  ball_visible\n",
      "0         0     13286           0     1006      229          True\n",
      "1         0     13336           0      955      148          True\n",
      "2         0     13361           0      724      366          True\n",
      "3         0     13406           0      471      160          True\n",
      "4         0     13456           0      527       70          True\n"
     ]
    }
   ],
   "source": [
    "ball_url = Path(\"C:/Users/mijin/OneDrive/Desktop/data_science/project/datasets/volleyball_ball_annotation\")\n",
    "balldata = dataset_ball(ball_url)\n",
    "print(balldata.head())"
   ]
  },
  {
   "cell_type": "code",
   "execution_count": null,
   "metadata": {},
   "outputs": [],
   "source": [
    "actions_url = Path(\"C:/Users/mijin/OneDrive/Desktop/data_science/project/datasets/volleyball-detections\")\n",
    "actionsdata = dataset_detections(actions_url)\n",
    "print(actionsdata.head())"
   ]
  }
 ],
 "metadata": {
  "kernelspec": {
   "display_name": "Python 3",
   "language": "python",
   "name": "python3"
  },
  "language_info": {
   "codemirror_mode": {
    "name": "ipython",
    "version": 3
   },
   "file_extension": ".py",
   "mimetype": "text/x-python",
   "name": "python",
   "nbconvert_exporter": "python",
   "pygments_lexer": "ipython3",
   "version": "3.10.11"
  }
 },
 "nbformat": 4,
 "nbformat_minor": 2
}
